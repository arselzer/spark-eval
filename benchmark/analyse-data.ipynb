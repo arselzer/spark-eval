{
 "cells": [
  {
   "cell_type": "code",
   "execution_count": null,
   "id": "54a1e562-d0b6-4541-bc8e-7d4d150f667b",
   "metadata": {},
   "outputs": [],
   "source": [
    "import pandas as pd\n",
    "import matplotlib.pyplot as plt\n",
    "import numpy as np"
   ]
  },
  {
   "cell_type": "code",
   "execution_count": null,
   "id": "4b28d5dc-17c8-40e6-a552-d227354a0b31",
   "metadata": {},
   "outputs": [],
   "source": [
    "def compare_resource_usage(query, run, fname):\n",
    "    memory_q1_opt = pd.read_csv(f'{query}/opt/resource-usage-{run}.csv')\n",
    "    memory_q1_ref = pd.read_csv(f'{query}/ref/resource-usage-{run}.csv')\n",
    "    \n",
    "    plt.plot(memory_q1_ref['memory_used'] / (1000 * 1000 * 1000))\n",
    "    plt.plot(memory_q1_opt['memory_used'] / (1000 * 1000 * 1000))\n",
    "    plt.savefig(f'memory-{fname}.eps')\n",
    "    plt.show()\n",
    "\n",
    "    plt.plot(memory_q1_ref['cpu_used'])\n",
    "    plt.plot(memory_q1_opt['cpu_used'])\n",
    "    plt.show()\n",
    "\n",
    "    N = 15\n",
    "    plt.plot(np.convolve(memory_q1_ref['cpu_used'], np.ones(N)/N, mode='valid'))\n",
    "    plt.plot(np.convolve(memory_q1_opt['cpu_used'], np.ones(N)/N, mode='valid'))\n",
    "    plt.savefig(f'cpu15s-{fname}.eps')\n",
    "    plt.show()"
   ]
  },
  {
   "cell_type": "code",
   "execution_count": null,
   "id": "9ee7c401-8301-4f04-8277-d3a79c55a072",
   "metadata": {},
   "outputs": [],
   "source": [
    "compare_resource_usage('benchmark-results-lsqb/q1.sql', '05', 'q1-sf100')\n",
    "\n",
    "#compare_resource_usage('benchmark-results-lsqb-sf100/q4.sql')"
   ]
  },
  {
   "cell_type": "code",
   "execution_count": null,
   "id": "8bf832c0-a61f-41c8-af1f-aa81229f8b54",
   "metadata": {},
   "outputs": [],
   "source": [
    "stats_opt_df = pd.read_csv('benchmark-results-stats/results-opt.csv')\n",
    "df_opt = stats_opt_df[stats_opt_df['run'] != 1]\n",
    "df_opt = df_opt.groupby(['query']).agg({'runtime': ['mean', 'std', 'sum']})\n",
    "df_opt.to_csv('benchmark-results-stats/results-opt-mean.csv')\n",
    "\n",
    "stats_ref_df = pd.read_csv('benchmark-results-stats/results-ref.csv')\n",
    "df_ref = stats_ref_df[stats_opt_df['run'] != 1]\n",
    "df_ref = df_ref.groupby(['query']).agg({'runtime': ['mean', 'std', 'sum']})\n",
    "df_ref.to_csv('benchmark-results-stats/results-ref-mean.csv')"
   ]
  },
  {
   "cell_type": "code",
   "execution_count": null,
   "id": "cf3daa89-d5bb-4325-b88f-c33e39d343a5",
   "metadata": {},
   "outputs": [],
   "source": [
    "#df[['query', 'runtime']].plot()\n",
    "df = df_opt\n",
    "plt.plot(df[df.index.str.contains('hint.sql')][[('runtime', 'mean')]])\n",
    "plt.plot(df[~df.index.str.contains('hint.sql')][[('runtime', 'mean')]])\n",
    "#df.index#['query']"
   ]
  },
  {
   "cell_type": "code",
   "execution_count": null,
   "id": "07f21c26-b2ec-4181-b93d-30ff2b21ee7a",
   "metadata": {},
   "outputs": [],
   "source": [
    "df_opt[df_opt.index.str.contains('hint.sql')][[('runtime', 'sum')]].sum()"
   ]
  },
  {
   "cell_type": "code",
   "execution_count": null,
   "id": "a32c2aaa-139b-45e2-a7ab-3d6d85ccbe9f",
   "metadata": {},
   "outputs": [],
   "source": [
    "df_opt[~df_opt.index.str.contains('hint.sql')][[('runtime', 'sum')]].sum()"
   ]
  },
  {
   "cell_type": "code",
   "execution_count": null,
   "id": "638531d9-c620-4099-b9fc-f6aacd580eb7",
   "metadata": {},
   "outputs": [],
   "source": [
    "df_ref[[('runtime', 'sum')]].sum()"
   ]
  },
  {
   "cell_type": "code",
   "execution_count": null,
   "id": "f4b6e9f6-f546-4a11-8d50-6e9a96a33bc1",
   "metadata": {},
   "outputs": [],
   "source": [
    "df = pd.read_csv('benchmark-results-tpch/results-ref.csv')"
   ]
  },
  {
   "cell_type": "code",
   "execution_count": null,
   "id": "ef5dabc1-f70d-427d-86a2-1320a205df7a",
   "metadata": {},
   "outputs": [],
   "source": [
    "print(df)"
   ]
  },
  {
   "cell_type": "code",
   "execution_count": null,
   "id": "d0a166ed-8270-44c9-86de-05c8823d1630",
   "metadata": {},
   "outputs": [],
   "source": []
  }
 ],
 "metadata": {
  "kernelspec": {
   "display_name": "Python 3 (ipykernel)",
   "language": "python",
   "name": "python3"
  },
  "language_info": {
   "codemirror_mode": {
    "name": "ipython",
    "version": 3
   },
   "file_extension": ".py",
   "mimetype": "text/x-python",
   "name": "python",
   "nbconvert_exporter": "python",
   "pygments_lexer": "ipython3",
   "version": "3.10.12"
  }
 },
 "nbformat": 4,
 "nbformat_minor": 5
}
