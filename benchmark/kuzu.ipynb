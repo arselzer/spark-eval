{
 "cells": [
  {
   "cell_type": "code",
   "execution_count": null,
   "id": "52d7a1ff-40c0-41e8-ad2b-7ecbaefb1313",
   "metadata": {},
   "outputs": [],
   "source": [
    "%%bash\n",
    "pip3 install kuzu"
   ]
  },
  {
   "cell_type": "code",
   "execution_count": null,
   "id": "d850cbc1-1636-458c-8bc8-3fddf429bf26",
   "metadata": {},
   "outputs": [],
   "source": [
    "import kuzu\n",
    "\n",
    "db = kuzu.Database(\"./dblp\")\n",
    "conn = kuzu.Connection(db)"
   ]
  },
  {
   "cell_type": "code",
   "execution_count": null,
   "id": "3b747c8c-425b-4ab8-a271-c471d801ef53",
   "metadata": {},
   "outputs": [],
   "source": [
    "import kuzu\n",
    "\n",
    "db = kuzu.Database(\"./google\")\n",
    "conn = kuzu.Connection(db)"
   ]
  },
  {
   "cell_type": "code",
   "execution_count": null,
   "id": "fdaf93cc-f48d-4d18-bae8-a372aa7537c3",
   "metadata": {},
   "outputs": [],
   "source": [
    "conn.execute(\"CREATE NODE TABLE Dblp(id STRING, PRIMARY KEY (id))\")\n",
    "conn.execute(\"CREATE REL TABLE Connected(FROM Dblp TO Dblp)\")"
   ]
  },
  {
   "cell_type": "code",
   "execution_count": null,
   "id": "1592d7cd-d2f8-467f-9604-7ec7fcd4788d",
   "metadata": {},
   "outputs": [],
   "source": [
    "conn.execute('COPY Dblp FROM \"dblp-nodes.csv\"')"
   ]
  },
  {
   "cell_type": "code",
   "execution_count": null,
   "id": "abdf4088-f3b1-48f3-b97f-06fafde5ccf7",
   "metadata": {},
   "outputs": [],
   "source": [
    "conn.execute('COPY Connected from \"dblp.csv\" (delim=\"\\t\")')"
   ]
  },
  {
   "cell_type": "code",
   "execution_count": null,
   "id": "3ef02c02-f9da-4521-b51d-5a502295ab55",
   "metadata": {},
   "outputs": [],
   "source": [
    "conn.execute(\"CREATE NODE TABLE Google(id STRING, PRIMARY KEY (id))\")\n",
    "conn.execute(\"CREATE REL TABLE Connected(FROM Google TO Google)\")"
   ]
  },
  {
   "cell_type": "code",
   "execution_count": null,
   "id": "a3761d72-3415-424f-a633-be5cbd85a104",
   "metadata": {},
   "outputs": [],
   "source": [
    "conn.execute('COPY Google FROM \"google-nodes.csv\"')"
   ]
  },
  {
   "cell_type": "code",
   "execution_count": null,
   "id": "dded1a1b-6c48-4b09-afe4-ebcf47ffc507",
   "metadata": {},
   "outputs": [],
   "source": [
    "conn.execute('COPY Connected from \"google.csv\" (delim=\"\\t\")')"
   ]
  },
  {
   "cell_type": "code",
   "execution_count": null,
   "id": "51095aea-c912-49ba-8e11-fae04af01366",
   "metadata": {},
   "outputs": [],
   "source": [
    "import time\n",
    "\n",
    "def run_query(query):\n",
    "    start_time = time.time()\n",
    "    results = conn.execute(query)\n",
    "    while results.has_next():\n",
    "        print(results.get_next())\n",
    "    print(\"runtime: %s ms\" % ((time.time() - start_time) * 1000))"
   ]
  },
  {
   "cell_type": "code",
   "execution_count": null,
   "id": "47f198e1-e2f2-42df-a4da-cd731d3913e2",
   "metadata": {},
   "outputs": [],
   "source": [
    "#DBLP\n",
    "\n",
    "path03 = \"MATCH (n1:Dblp)-[:CONNECTED]->(n2:Dblp)-[:CONNECTED]->(n3:Dblp)-[:CONNECTED]->(n4:Dblp)-[:CONNECTED]->(n5:Dblp) RETURN count(*)\"\n",
    "path04 = \"MATCH (n1:Dblp)-[:CONNECTED]->(n2:Dblp)-[:CONNECTED]->(n3:Dblp)-[:CONNECTED]->(n4:Dblp)-[:CONNECTED]->(n5:Dblp)-[:CONNECTED]->(n6:Dblp) RETURN count(*)\"\n",
    "path05 = \"MATCH (n1:Dblp)-[:CONNECTED]->(n2:Dblp)-[:CONNECTED]->(n3:Dblp)-[:CONNECTED]->(n4:Dblp)-[:CONNECTED]->(n5:Dblp)-[:CONNECTED]->(n6:Dblp)-[:CONNECTED]->(n7:Dblp) RETURN count(*)\"\n",
    "path06 = \"MATCH (n1:Dblp)-[:CONNECTED]->(n2:Dblp)-[:CONNECTED]->(n3:Dblp)-[:CONNECTED]->(n4:Dblp)-[:CONNECTED]->(n5:Dblp)-[:CONNECTED]->(n6:Dblp)-[:CONNECTED]->(n7:Dblp)-[:CONNECTED]->(n8:Dblp) RETURN count(*)\"\n",
    "tree01 = \"MATCH (n1:Dblp)-[:CONNECTED]->(n2:Dblp)-[:CONNECTED]->(n3:Dblp)-[:CONNECTED]->(n4:Dblp)-[:CONNECTED]->(n5:Dblp), (n4)-[:CONNECTED]->(n6:Dblp) RETURN count(*)\"\n",
    "tree02 = \"MATCH (n1:Dblp)-[:CONNECTED]->(n2:Dblp)-[:CONNECTED]->(n3:Dblp)-[:CONNECTED]->(n4:Dblp)-[:CONNECTED]->(n5:Dblp), (n4)-[:CONNECTED]->(n6:Dblp), (n4)-[:CONNECTED]->(n7:Dblp) RETURN count(*)\""
   ]
  },
  {
   "cell_type": "code",
   "execution_count": null,
   "id": "55bb861e-ed8a-46a7-ac56-1ac70381b57b",
   "metadata": {},
   "outputs": [],
   "source": [
    "#Google\n",
    "\n",
    "path03 = \"MATCH (n1:Google)-[:CONNECTED]->(n2:Google)-[:CONNECTED]->(n3:Google)-[:CONNECTED]->(n4:Google)-[:CONNECTED]->(n5:Google) RETURN count(*)\"\n",
    "path04 = \"MATCH (n1:Google)-[:CONNECTED]->(n2:Google)-[:CONNECTED]->(n3:Google)-[:CONNECTED]->(n4:Google)-[:CONNECTED]->(n5:Google)-[:CONNECTED]->(n6:Google) RETURN count(*)\"\n",
    "path05 = \"MATCH (n1:Google)-[:CONNECTED]->(n2:Google)-[:CONNECTED]->(n3:Google)-[:CONNECTED]->(n4:Google)-[:CONNECTED]->(n5:Google)-[:CONNECTED]->(n6:Google)-[:CONNECTED]->(n7:Google) RETURN count(*)\"\n",
    "path06 = \"MATCH (n1:Dblp)-[:CONNECTED]->(n2:Dblp)-[:CONNECTED]->(n3:Dblp)-[:CONNECTED]->(n4:Dblp)-[:CONNECTED]->(n5:Dblp)-[:CONNECTED]->(n6:Dblp)-[:CONNECTED]->(n7:Dblp)-[:CONNECTED]->(n8:Dblp) RETURN count(*)\"\n",
    "tree01 = \"MATCH (n1:Dblp)-[:CONNECTED]->(n2:Dblp)-[:CONNECTED]->(n3:Dblp)-[:CONNECTED]->(n4:Dblp)-[:CONNECTED]->(n5:Dblp), (n4)-[:CONNECTED]->(n6:Dblp) RETURN count(*)\"\n",
    "tree02 = \"MATCH (n1:Dblp)-[:CONNECTED]->(n2:Dblp)-[:CONNECTED]->(n3:Dblp)-[:CONNECTED]->(n4:Dblp)-[:CONNECTED]->(n5:Dblp), (n4)-[:CONNECTED]->(n6:Dblp), (n4)-[:CONNECTED]->(n7:Dblp) RETURN count(*)\""
   ]
  },
  {
   "cell_type": "code",
   "execution_count": null,
   "id": "799b11f7-c310-4f70-bdf7-796d69674a76",
   "metadata": {},
   "outputs": [],
   "source": [
    "def benchmark(query):\n",
    "    print(f'running query: {query}')\n",
    "    for i in range(0,5):\n",
    "        run_query(query)\n",
    "\n",
    "benchmark(path05)"
   ]
  },
  {
   "cell_type": "code",
   "execution_count": null,
   "id": "e06ea8ca-d740-4144-8ad3-c623f24b7db2",
   "metadata": {},
   "outputs": [],
   "source": [
    "run_query(tree02)"
   ]
  },
  {
   "cell_type": "code",
   "execution_count": null,
   "id": "19886799-0666-4d26-b3da-07ec144c8a1c",
   "metadata": {},
   "outputs": [],
   "source": [
    "nodeset = set()\n",
    "\n",
    "#with open(\"snap/noheader/com-dblp.ungraph.txt\") as file:\n",
    "with open(\"snap/noheader/web-Google.txt\") as file:\n",
    "    for line in file:\n",
    "        splits = line.split(\"\\t\")\n",
    "        nodeset.add(splits[0])\n",
    "        nodeset.add(splits[1].replace(\"\\n\", \"\"))\n",
    "\n",
    "str = \"\\n\".join(nodeset)\n",
    "\n",
    "with open(\"google-nodes.csv\", \"w\") as f:\n",
    "    f.write(str)"
   ]
  },
  {
   "cell_type": "code",
   "execution_count": null,
   "id": "5a8c832c-b87d-4109-8a33-f2d25adf864b",
   "metadata": {},
   "outputs": [],
   "source": []
  }
 ],
 "metadata": {
  "kernelspec": {
   "display_name": "Python 3 (ipykernel)",
   "language": "python",
   "name": "python3"
  },
  "language_info": {
   "codemirror_mode": {
    "name": "ipython",
    "version": 3
   },
   "file_extension": ".py",
   "mimetype": "text/x-python",
   "name": "python",
   "nbconvert_exporter": "python",
   "pygments_lexer": "ipython3",
   "version": "3.10.12"
  }
 },
 "nbformat": 4,
 "nbformat_minor": 5
}
