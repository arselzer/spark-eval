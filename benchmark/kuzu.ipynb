{
 "cells": [
  {
   "cell_type": "code",
   "execution_count": 1,
   "id": "52d7a1ff-40c0-41e8-ad2b-7ecbaefb1313",
   "metadata": {},
   "outputs": [
    {
     "name": "stdout",
     "output_type": "stream",
     "text": [
      "Collecting kuzu\n",
      "  Downloading kuzu-0.4.2-cp310-cp310-manylinux_2_17_x86_64.manylinux2014_x86_64.whl (5.2 MB)\n",
      "     ━━━━━━━━━━━━━━━━━━━━━━━━━━━━━━━━━━━━━━━━ 5.2/5.2 MB 59.6 MB/s eta 0:00:00\n",
      "Installing collected packages: kuzu\n",
      "Successfully installed kuzu-0.4.2\n"
     ]
    },
    {
     "name": "stderr",
     "output_type": "stream",
     "text": [
      "WARNING: Running pip as the 'root' user can result in broken permissions and conflicting behaviour with the system package manager. It is recommended to use a virtual environment instead: https://pip.pypa.io/warnings/venv\n"
     ]
    }
   ],
   "source": [
    "%%bash\n",
    "pip3 install kuzu"
   ]
  },
  {
   "cell_type": "code",
   "execution_count": 3,
   "id": "d850cbc1-1636-458c-8bc8-3fddf429bf26",
   "metadata": {},
   "outputs": [],
   "source": [
    "import kuzu\n",
    "\n",
    "db = kuzu.Database(\"./dblp\")\n",
    "conn = kuzu.Connection(db)"
   ]
  },
  {
   "cell_type": "code",
   "execution_count": 8,
   "id": "fdaf93cc-f48d-4d18-bae8-a372aa7537c3",
   "metadata": {},
   "outputs": [
    {
     "data": {
      "text/plain": [
       "<kuzu.query_result.QueryResult at 0x7fa4f2176f20>"
      ]
     },
     "execution_count": 8,
     "metadata": {},
     "output_type": "execute_result"
    }
   ],
   "source": [
    "conn.execute(\"CREATE NODE TABLE Dblp(id STRING, PRIMARY KEY (id))\")\n",
    "conn.execute(\"CREATE REL TABLE Connected(FROM Dblp TO Dblp)\")"
   ]
  },
  {
   "cell_type": "code",
   "execution_count": 16,
   "id": "1592d7cd-d2f8-467f-9604-7ec7fcd4788d",
   "metadata": {},
   "outputs": [
    {
     "data": {
      "text/plain": [
       "<kuzu.query_result.QueryResult at 0x7fa4d97cb9a0>"
      ]
     },
     "execution_count": 16,
     "metadata": {},
     "output_type": "execute_result"
    }
   ],
   "source": [
    "conn.execute('COPY Dblp FROM \"dblp-nodes.csv\"')"
   ]
  },
  {
   "cell_type": "code",
   "execution_count": 18,
   "id": "abdf4088-f3b1-48f3-b97f-06fafde5ccf7",
   "metadata": {},
   "outputs": [
    {
     "data": {
      "text/plain": [
       "<kuzu.query_result.QueryResult at 0x7fa4d970b970>"
      ]
     },
     "execution_count": 18,
     "metadata": {},
     "output_type": "execute_result"
    }
   ],
   "source": [
    "conn.execute('COPY Connected from \"dblp.csv\" (delim=\"\\t\")')"
   ]
  },
  {
   "cell_type": "code",
   "execution_count": 25,
   "id": "47f198e1-e2f2-42df-a4da-cd731d3913e2",
   "metadata": {},
   "outputs": [
    {
     "name": "stdout",
     "output_type": "stream",
     "text": [
      "[179284658061]\n",
      "CPU times: user 5h 32min 48s, sys: 406 ms, total: 5h 32min 49s\n",
      "Wall time: 12min 34s\n"
     ]
    }
   ],
   "source": [
    "%%time\n",
    "\n",
    "results = conn.execute(\"MATCH (n1:Dblp)-[:CONNECTED]->(n2:Dblp)-[:CONNECTED]->(n3:Dblp)-[:CONNECTED]->(n4:Dblp)-[:CONNECTED]->(n5:Dblp)-[:CONNECTED]->(n6:Dblp)-[:CONNECTED]->(n7:Dblp) RETURN count(*)\")\n",
    "while results.has_next():\n",
    "    print(results.get_next())"
   ]
  },
  {
   "cell_type": "code",
   "execution_count": 15,
   "id": "19886799-0666-4d26-b3da-07ec144c8a1c",
   "metadata": {},
   "outputs": [],
   "source": [
    "nodeset = set()\n",
    "\n",
    "with open(\"snap/noheader/com-dblp.ungraph.txt\") as file:\n",
    "    for line in file:\n",
    "        splits = line.split(\"\\t\")\n",
    "        nodeset.add(splits[0])\n",
    "        nodeset.add(splits[1].replace(\"\\n\", \"\"))\n",
    "\n",
    "str = \"\\n\".join(nodeset)\n",
    "\n",
    "with open(\"dblp-nodes.csv\", \"w\") as f:\n",
    "    f.write(str)"
   ]
  },
  {
   "cell_type": "code",
   "execution_count": null,
   "id": "5a8c832c-b87d-4109-8a33-f2d25adf864b",
   "metadata": {},
   "outputs": [],
   "source": []
  }
 ],
 "metadata": {
  "kernelspec": {
   "display_name": "Python 3 (ipykernel)",
   "language": "python",
   "name": "python3"
  },
  "language_info": {
   "codemirror_mode": {
    "name": "ipython",
    "version": 3
   },
   "file_extension": ".py",
   "mimetype": "text/x-python",
   "name": "python",
   "nbconvert_exporter": "python",
   "pygments_lexer": "ipython3",
   "version": "3.10.12"
  }
 },
 "nbformat": 4,
 "nbformat_minor": 5
}
