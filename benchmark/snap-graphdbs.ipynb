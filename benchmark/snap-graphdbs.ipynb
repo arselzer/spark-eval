{
 "cells": [
  {
   "cell_type": "markdown",
   "id": "4d29d5a1-31ae-496b-90cd-05397ad89418",
   "metadata": {},
   "source": [
    "# "
   ]
  },
  {
   "cell_type": "code",
   "execution_count": 1,
   "id": "37c481e0-6c04-4916-a088-fc7bda9a5f7e",
   "metadata": {},
   "outputs": [
    {
     "name": "stdout",
     "output_type": "stream",
     "text": [
      "Collecting neo4j\n",
      "  Downloading neo4j-5.22.0-py3-none-any.whl (293 kB)\n",
      "     ━━━━━━━━━━━━━━━━━━━━━━━━━━━━━━━━━━━━━━━ 293.5/293.5 KB 9.3 MB/s eta 0:00:00\n",
      "Collecting pytz\n",
      "  Downloading pytz-2024.1-py2.py3-none-any.whl (505 kB)\n",
      "     ━━━━━━━━━━━━━━━━━━━━━━━━━━━━━━━━━━━━━━ 505.5/505.5 KB 41.4 MB/s eta 0:00:00\n",
      "Installing collected packages: pytz, neo4j\n",
      "Successfully installed neo4j-5.22.0 pytz-2024.1\n"
     ]
    },
    {
     "name": "stderr",
     "output_type": "stream",
     "text": [
      "WARNING: Running pip as the 'root' user can result in broken permissions and conflicting behaviour with the system package manager. It is recommended to use a virtual environment instead: https://pip.pypa.io/warnings/venv\n"
     ]
    }
   ],
   "source": [
    "%%bash\n",
    "pip3 install neo4j"
   ]
  },
  {
   "cell_type": "code",
   "execution_count": 10,
   "id": "8bcf4f96-a6d0-4033-97ea-3300a297529e",
   "metadata": {},
   "outputs": [],
   "source": [
    "create_dblp = \"\"\"\n",
    "CREATE INDEX ON :Dblp(id);\n",
    "\n",
    "LOAD CSV FROM '/benchmark/snap/noheader/com-dblp.ungraph.txt' NO HEADER DELIMITER \"\\t\" AS row\n",
    "WITH row\n",
    "MERGE (n1:Dblp {id: row[0]});\n",
    "\n",
    "LOAD CSV FROM '/benchmark/snap/noheader/com-dblp.ungraph.txt' NO HEADER DELIMITER \"\\t\" AS row\n",
    "WITH row\n",
    "MERGE (n2:Dblp {id: row[1]});\n",
    "\n",
    "LOAD CSV FROM '/benchmark/snap/noheader/com-dblp.ungraph.txt' NO HEADER DELIMITER \"\\t\" AS row\n",
    "WITH row\n",
    "MATCH (n1:Dblp {id: row[0]}), (n2:Dblp {id: row[1]})\n",
    "CREATE (n1)-[:CONNECTED]->(n2);\n",
    "\"\"\"\n",
    "\n",
    "create_google = \"\"\"\n",
    "CREATE INDEX ON :Google(id);\n",
    "\n",
    "LOAD CSV FROM '/benchmark/snap/noheader/web-Google.txt' NO HEADER DELIMITER \"\\t\" AS row\n",
    "WITH row\n",
    "MERGE (n1:Google {id: row[0]});\n",
    "\n",
    "LOAD CSV FROM '/benchmark/snap/noheader/web-Google.txt' NO HEADER DELIMITER \"\\t\" AS row\n",
    "WITH row\n",
    "MERGE (n2:Google {id: row[1]});\n",
    "\n",
    "LOAD CSV FROM '/benchmark/snap/noheader/web-Google.txt' NO HEADER DELIMITER \"\\t\" AS row\n",
    "WITH row\n",
    "MATCH (n1:Google {id: row[0]}), (n2:Google {id: row[1]})\n",
    "CREATE (n1)-[:CONNECTED]->(n2);\n",
    "\"\"\"\n",
    "\n",
    "create_google = [\n",
    "\"CREATE INDEX ON :Google(id);\",\n",
    "\"\"\"\n",
    "LOAD CSV FROM '/benchmark/snap/noheader/web-Google.txt' NO HEADER DELIMITER \"\\t\" AS row\n",
    "WITH row\n",
    "MERGE (n1:Google {id: row[0]});\n",
    "\"\"\",\n",
    "\"\"\"\n",
    "LOAD CSV FROM '/benchmark/snap/noheader/web-Google.txt' NO HEADER DELIMITER \"\\t\" AS row\n",
    "WITH row\n",
    "MERGE (n2:Google {id: row[1]});\n",
    "\"\"\",\n",
    "\"\"\"\n",
    "LOAD CSV FROM '/benchmark/snap/noheader/web-Google.txt' NO HEADER DELIMITER \"\\t\" AS row\n",
    "WITH row\n",
    "MATCH (n1:Google {id: row[0]}), (n2:Google {id: row[1]})\n",
    "CREATE (n1)-[:CONNECTED]->(n2);\n",
    "\"\"\"\n",
    "]\n",
    "\n",
    "create_wiki = \"\"\"\n",
    "CREATE INDEX ON :Wiki(id);\n",
    "\n",
    "LOAD CSV FROM '/benchmark/snap/noheader/wiki-topcats.txt' NO HEADER DELIMITER \"\\t\" AS row\n",
    "WITH row\n",
    "MERGE (n1:Wiki {id: row[0]});\n",
    "\n",
    "LOAD CSV FROM '/benchmark/snap/noheader/wiki-topcats.txt' NO HEADER DELIMITER \"\\t\" AS row\n",
    "WITH row\n",
    "MERGE (n2:Wiki {id: row[1]});\n",
    "\n",
    "LOAD CSV FROM '/benchmark/snap/noheader/wiki-topcats.txt' NO HEADER DELIMITER \"\\t\" AS row\n",
    "WITH row\n",
    "MATCH (n1:Wiki {id: row[0]}), (n2:Wiki {id: row[1]})\n",
    "CREATE (n1)-[:CONNECTED]->(n2);\n",
    "\"\"\""
   ]
  },
  {
   "cell_type": "code",
   "execution_count": null,
   "id": "9841b7e2-4f1d-49f7-9779-b3e20aea74a7",
   "metadata": {},
   "outputs": [],
   "source": [
    "create_dblp_neo4j = \"\"\"\n",
    "CREATE INDEX FOR (n:Dblp) ON n.id;\n",
    "\n",
    "LOAD CSV  FROM 'file:///var/lib/neo4j/import/benchmark/snap/noheader/com-dblp.ungraph.txt' AS row FIELDTERMINATOR '\\t'\n",
    "MERGE (n1:Dblp {id: row[0]});\n",
    "\n",
    "LOAD CSV  FROM 'file:///var/lib/neo4j/import/benchmark/snap/noheader/com-dblp.ungraph.txt' AS row FIELDTERMINATOR '\\t'\n",
    "MERGE (n2:Dblp {id: row[1]});\n",
    "\n",
    "LOAD CSV  FROM 'file:///var/lib/neo4j/import/benchmark/snap/noheader/com-dblp.ungraph.txt' AS row FIELDTERMINATOR '\\t'\n",
    "MATCH (n1:Dblp {id: row[0]}), (n2:Dblp {id: row[1]})\n",
    "CREATE (n1)-[:CONNECTED]->(n2);\n",
    "\"\"\"\n",
    "\n",
    "create_google_neo4j = \"\"\"\n",
    "CREATE INDEX FOR (n:Google) ON n.id;\n",
    "\n",
    "LOAD CSV  FROM 'file:///var/lib/neo4j/import/benchmark/snap/noheader/web-Google.txt' AS row FIELDTERMINATOR '\\t'\n",
    "MERGE (n1:Google {id: row[0]});\n",
    "\n",
    "LOAD CSV  FROM 'file:///var/lib/neo4j/import/benchmark/snap/noheader/web-Google.txt' AS row FIELDTERMINATOR '\\t'\n",
    "MERGE (n2:Google {id: row[1]});\n",
    "\n",
    "LOAD CSV  FROM 'file:///var/lib/neo4j/import/benchmark/snap/noheader/web-Google.txt' AS row FIELDTERMINATOR '\\t'\n",
    "MATCH (n1:Google {id: row[0]}), (n2:Google {id: row[1]})\n",
    "CREATE (n1)-[:CONNECTED]->(n2);\n",
    "\"\"\""
   ]
  },
  {
   "cell_type": "code",
   "execution_count": 16,
   "id": "1066ddea-6c5e-4090-a1c0-d0ec7b4a0d04",
   "metadata": {},
   "outputs": [],
   "source": [
    "from neo4j import GraphDatabase\n",
    "\n",
    "URI = \"bolt://memgraph:7687\"\n",
    "AUTH = (\"\", \"\")\n",
    "\n",
    "with GraphDatabase.driver(URI, auth=AUTH) as client:\n",
    "    # Check the connection\n",
    "    client.verify_connectivity()\n",
    "\n",
    "    for query in create_google:\n",
    "        session = client.session()\n",
    "        session.run(query)\n",
    "        session.close()\n",
    "    "
   ]
  },
  {
   "cell_type": "code",
   "execution_count": null,
   "id": "dc90d5c0-59a7-4293-aebd-6c41e6734b88",
   "metadata": {},
   "outputs": [],
   "source": []
  }
 ],
 "metadata": {
  "kernelspec": {
   "display_name": "Python 3 (ipykernel)",
   "language": "python",
   "name": "python3"
  },
  "language_info": {
   "codemirror_mode": {
    "name": "ipython",
    "version": 3
   },
   "file_extension": ".py",
   "mimetype": "text/x-python",
   "name": "python",
   "nbconvert_exporter": "python",
   "pygments_lexer": "ipython3",
   "version": "3.10.12"
  }
 },
 "nbformat": 4,
 "nbformat_minor": 5
}
